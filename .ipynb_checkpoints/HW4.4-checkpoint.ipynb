{
 "cells": [
  {
   "cell_type": "code",
   "execution_count": 154,
   "id": "5e71e441",
   "metadata": {},
   "outputs": [
    {
     "name": "stdout",
     "output_type": "stream",
     "text": [
      "training score : 0.9\n"
     ]
    },
    {
     "data": {
      "image/png": "[encoded data removed]",
      "text/plain": [
       "<Figure size 432x288 with 1 Axes>"
      ]
     },
     "metadata": {
      "needs_background": "light"
     },
     "output_type": "display_data"
    }
   ],
   "source": [
    "import numpy as np\n",
    "import matplotlib.pyplot as plt\n",
    "\n",
    "_range=10\n",
    "\n",
    "Xs,Ys=LineXYs(_range)\n",
    "plt.plot(Xs,Ys)\n",
    "\n",
    "testData = CreateData(30,_range)\n",
    "#print(np.array(testData))\n",
    "\n",
    "data=np.array(testData)[:,:-1]\n",
    "x=np.array(testData)[:,0]\n",
    "y=np.array(testData)[:,1]\n",
    "target=np.array(testData)[:,-1]\n",
    "\n",
    "colors = Label2Color(target)\n",
    "\n",
    "plt.scatter(x,y,color = colors)\n",
    "\n",
    "#print(x)\n",
    "#print(y)\n",
    "#print(target)\n",
    "#print(colors)\n",
    "\n",
    "l_Xs,l_Ys = FitData(data,target,10)\n",
    "plt.plot(l_Xs,l_Ys)\n",
    "\n",
    "plt.show()\n",
    "\n"
   ]
  },
  {
   "cell_type": "code",
   "execution_count": 63,
   "id": "536351d4",
   "metadata": {},
   "outputs": [],
   "source": [
    "def TargetFunc(x2):\n",
    "    x1=2-(2*x2)\n",
    "    return x1"
   ]
  },
  {
   "cell_type": "code",
   "execution_count": 60,
   "id": "c914cd20",
   "metadata": {},
   "outputs": [],
   "source": [
    "import random\n",
    "\n",
    "def GenerateRandomData(_range, Noise):\n",
    "    x2 = random.randint(-_range,_range)\n",
    "    x1 = TargetFunc(x2)\n",
    "    \n",
    "    NoisyX1 = x1+ (Noise * random.randint(-_range,_range))\n",
    "    \n",
    "    label = NoisyX1>x1\n",
    "    \n",
    "    return [NoisyX1,x2,label]"
   ]
  },
  {
   "cell_type": "code",
   "execution_count": 61,
   "id": "c44acd0b",
   "metadata": {},
   "outputs": [],
   "source": [
    "def CreateData(count,_range):\n",
    "    \n",
    "    data=list([])\n",
    "    \n",
    "    for i in range(0,count):\n",
    "        data.append(GenerateRandomData(_range,2))\n",
    "        \n",
    "    return data"
   ]
  },
  {
   "cell_type": "code",
   "execution_count": 71,
   "id": "6d73881a",
   "metadata": {},
   "outputs": [],
   "source": [
    "def Label2Color(labels):\n",
    "    colors=list([])\n",
    "\n",
    "    for t in labels:\n",
    "        if(t==1):\n",
    "            colors.append('green')\n",
    "        else :\n",
    "            colors.append('red')\n",
    "    \n",
    "    return colors"
   ]
  },
  {
   "cell_type": "code",
   "execution_count": 123,
   "id": "0988030b",
   "metadata": {},
   "outputs": [],
   "source": [
    "import random\n",
    "\n",
    "def LineXYs(_range):\n",
    "    Xs=list([])\n",
    "    Ys=list([-_range,_range])\n",
    "    \n",
    "    for v in Ys:\n",
    "        Xs.append(TargetFunc(v))\n",
    "        \n",
    "    return Xs,Ys\n",
    "    \n",
    "def LineXYs2(_range, a,b,c):\n",
    "    Xs=list([])\n",
    "    Ys=list([-_range,_range])\n",
    "    \n",
    "    for v in Ys:\n",
    "        Xs.append( ((b*v)+c)/(-a) )\n",
    "        \n",
    "    return Xs,Ys"
   ]
  },
  {
   "cell_type": "code",
   "execution_count": 132,
   "id": "c3680fc8",
   "metadata": {},
   "outputs": [],
   "source": [
    "from sklearn.linear_model import Perceptron\n",
    "\n",
    "def FitData(data,target,iterations):\n",
    "    \n",
    "    clf = Perceptron(tol=1e-3 , random_state=0)\n",
    "    clf.fit(data,target)\n",
    "    \n",
    "    print(f'training score : {clf.score(data,target)}')\n",
    "    #print(f'coef_ : {clf.coef_}')\n",
    "    #print(f'intercept_ : {clf.intercept_}')\n",
    "    \n",
    "    return LineXYs2(_range, clf.coef_[0,0],clf.coef_[0,1],clf.intercept_[0])"
   ]
  }
 ],
 "metadata": {
  "kernelspec": {
   "display_name": "Python 3 (ipykernel)",
   "language": "python",
   "name": "python3"
  },
  "language_info": {
   "codemirror_mode": {
    "name": "ipython",
    "version": 3
   },
   "file_extension": ".py",
   "mimetype": "text/x-python",
   "name": "python",
   "nbconvert_exporter": "python",
   "pygments_lexer": "ipython3",
   "version": "3.9.12"
  }
 },
 "nbformat": 4,
 "nbformat_minor": 5
}
